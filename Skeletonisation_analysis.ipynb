{
 "cells": [
  {
   "cell_type": "code",
   "execution_count": null,
   "metadata": {},
   "outputs": [],
   "source": [
    "# Required packages\n",
    "import numpy as np\n",
    "import cv2 \n",
    "from scipy.signal import savgol_filter\n",
    "import matplotlib\n",
    "from matplotlib import pyplot as plt\n",
    "from matplotlib import cm\n",
    "import matplotlib as mpl\n",
    "from math import *\n",
    "import tifffile\n",
    "import warnings\n",
    "import pandas as pd\n",
    "import matplotlib.mlab as mlab\n",
    "import matplotlib.patches as mpatches\n",
    "from scipy.optimize import curve_fit\n",
    "import string\n",
    "from pylab import *\n",
    "from PIL import Image\n",
    "from osgeo import gdal as GD  \n",
    "warnings.filterwarnings(\"ignore\")\n",
    "from itertools import chain"
   ]
  },
  {
   "cell_type": "code",
   "execution_count": null,
   "metadata": {},
   "outputs": [],
   "source": [
    "# Plot formatting \n",
    "matplotlib.rcParams['mathtext.fontset']='cm'\n",
    "matplotlib.rcParams['font.family']='STIXGeneral'\n",
    "plt.rcParams['legend.fontsize']=15\n",
    "plt.rcParams.update({'font.size':15}) \n",
    "plt.rcParams['axes.axisbelow']=True"
   ]
  },
  {
   "cell_type": "markdown",
   "metadata": {},
   "source": [
    "Find the code required to run the following cell here: https://github.com/lukegriffiths/crack-extract"
   ]
  },
  {
   "cell_type": "code",
   "execution_count": null,
   "metadata": {},
   "outputs": [],
   "source": [
    "resolution = np.floor(1/7.91*1000)\n",
    "select = list(range(0,38,1))\n",
    "final_s = []\n",
    "for i in select:\n",
    "    select[i]='%0.2d' % i\n",
    "# Process images\n",
    "for i in select:\n",
    "    final = processImage(\"meta-data/slice119_crop_bottom_brightness20000-54067_cropped_00\"+i+\".tif\",\n",
    "            median_filter_size=12,small_object_size=20,fill_small_holes_n_iterations=2,n_prune=10,\n",
    "            bg_greyscale=252,crack_greyscale=240)\n",
    "    final_s.append(final)"
   ]
  }
 ],
 "metadata": {
  "language_info": {
   "name": "python"
  }
 },
 "nbformat": 4,
 "nbformat_minor": 2
}
