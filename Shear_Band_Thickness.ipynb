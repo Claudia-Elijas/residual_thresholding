{
 "cells": [
  {
   "cell_type": "markdown",
   "metadata": {},
   "source": [
    "## Preamble"
   ]
  },
  {
   "cell_type": "code",
   "execution_count": null,
   "metadata": {},
   "outputs": [],
   "source": [
    "# Required packages\n",
    "import numpy as np\n",
    "import cv2 \n",
    "from scipy.signal import savgol_filter\n",
    "import matplotlib\n",
    "from matplotlib import pyplot as plt\n",
    "from matplotlib import cm\n",
    "import matplotlib as mpl\n",
    "from math import *\n",
    "import tifffile\n",
    "import warnings\n",
    "import pandas as pd\n",
    "import matplotlib.mlab as mlab\n",
    "import matplotlib.patches as mpatches\n",
    "from scipy.optimize import curve_fit\n",
    "import string\n",
    "from pylab import *\n",
    "from PIL import Image\n",
    "from osgeo import gdal as GD  \n",
    "warnings.filterwarnings(\"ignore\")"
   ]
  },
  {
   "cell_type": "code",
   "execution_count": null,
   "metadata": {},
   "outputs": [],
   "source": [
    "# Plot formatting \n",
    "matplotlib.rcParams['mathtext.fontset']='cm'\n",
    "matplotlib.rcParams['font.family']='STIXGeneral'\n",
    "plt.rcParams['legend.fontsize']=15\n",
    "plt.rcParams.update({'font.size':15}) \n",
    "plt.rcParams['axes.axisbelow']=True"
   ]
  },
  {
   "cell_type": "markdown",
   "metadata": {},
   "source": [
    "# Thickness of Shear Band from Strain Data"
   ]
  },
  {
   "cell_type": "markdown",
   "metadata": {},
   "source": [
    "### 1. Define function that calculates the weighted strain density perpendicular to shear band"
   ]
  },
  {
   "cell_type": "code",
   "execution_count": null,
   "metadata": {},
   "outputs": [],
   "source": [
    "#### CALCULATE THE WEIGHTED (AREA) DENSITY \n",
    "conv = 7.91 # pixel resolution conversion\n",
    "def density_calculation(step, weight, intercept, band_max, Y, size, title):\n",
    "    '''\n",
    "    step: integer -- space between horizontal bins\n",
    "    weight: integer -- weight of strain density\n",
    "    intercept: integer -- inclination of straight line that fits the shear band\n",
    "    band_max: list -- distance to last band to which density is calculated\n",
    "    size: pd.DataFrame -- strain dataframe \n",
    "    \n",
    "    '''\n",
    "    \n",
    "    densities_p = []\n",
    "    densities_n = []\n",
    "    for b in range(0, band_max, step): \n",
    "        ### positive bands (ABOVE from shear band line)\n",
    "        def condition(x):\n",
    "            return x<= intercept+b+step and x>= intercept+b\n",
    "        band_objects_y = [x for x in Y if condition(x)]\n",
    "        band_major2 = []\n",
    "        for i in range(len(band_objects_y)): \n",
    "            index_y = Y.index(band_objects_y[i])\n",
    "            band_major2.append((size.iloc[index_y])**weight)\n",
    "        AWden = sum(band_major2)\n",
    "        densities_p.append(AWden)\n",
    "        \n",
    "        ### negative bands (BELOW from shear band line)\n",
    "        def condition_n(a):\n",
    "            return a>= intercept-b-step and a<= intercept-b\n",
    "        band_objects_y_n = [a for a in Y if condition_n(a)]\n",
    "        band_major2_n = []\n",
    "        for o in range(len(band_objects_y_n)): \n",
    "            index_y_n = Y.index(band_objects_y_n[o])\n",
    "            band_major2_n.append((size.iloc[index_y_n])**weight)\n",
    "        AWden_n = sum(band_major2_n)\n",
    "        densities_n.append(AWden_n)\n",
    "    \n",
    "    #total density\n",
    "    densities_n.reverse()\n",
    "    densities = densities_n+ densities_p\n",
    "    \n",
    "    #plot\n",
    "    ax.plot(np.arange(-band_max, band_max, step),densities, c='black', lw = 3, alpha = 0.6)\n",
    "    ax.scatter(np.arange(-band_max, band_max, step),densities, c='black', lw=3,  alpha = 0.6,label = 'Strain Density')\n",
    "    ax.set_xlabel(r'Distance from SBc ($\\mu$m)')\n",
    "    ax.set_ylabel(str(title))\n",
    "    ax.grid()\n",
    "    \n",
    "    ### HALF-WIDTH \n",
    "    max_d = np.max(densities)\n",
    "    \n",
    "    ###NEGATIVE DENSITIES\n",
    "    y_n = densities_n\n",
    "    x_n = np.arange(0, band_max,step) # NB: this function will return positive x values, so the output will have to be converted as OUT-20\n",
    "    f_n = interp1d( y_n, x_n )\n",
    "    d_n = f_n(max_d/2)-band_max\n",
    "    ax.axvline(d_n, c='red', lw=3, label = 'Half-Width', alpha=0.6, zorder=0)\n",
    "    \n",
    "    #POSITIVE DENSITIES\n",
    "    y_p = densities_p\n",
    "    x_p = np.arange(0, band_max,step)\n",
    "    f_p = interp1d( y_p, x_p )\n",
    "    d_p = f_p(max_d/2) - 0\n",
    "    ax.axvline(d_p, c='red', lw=3, alpha=0.6, zorder=0)\n",
    "    \n",
    "    #HALF-WIDTH PRINT\n",
    "    HW = abs(d_n)+d_p"
   ]
  },
  {
   "cell_type": "markdown",
   "metadata": {},
   "source": [
    "### 2. Import strain data\n"
   ]
  },
  {
   "cell_type": "code",
   "execution_count": null,
   "metadata": {
    "vscode": {
     "languageId": "plaintext"
    }
   },
   "outputs": [],
   "source": [
    "data_set = GD.Open('./Cumulative_shear_strain_cropped_to_2D_CT_scans_for_Claudia.tif')  \n",
    "band_1 = data_set.GetRasterBand(1) \n",
    "b1 = band_1.ReadAsArray()  \n",
    "\n",
    "X=[]\n",
    "Y=[]\n",
    "strain=[]\n",
    "for (r,c) in [(r,c) for r in range(32) for c in range(20)]: \n",
    "    size = b1[r][c]\n",
    "    X.append(c)\n",
    "    Y.append(r)\n",
    "    strain.append(size) \n",
    "strain =np.nan_to_num(strain, nan=0.0)"
   ]
  },
  {
   "cell_type": "markdown",
   "metadata": {},
   "source": [
    "### 3. Thickness of Shear Band from Half-Width"
   ]
  },
  {
   "cell_type": "code",
   "execution_count": null,
   "metadata": {
    "vscode": {
     "languageId": "plaintext"
    }
   },
   "outputs": [],
   "source": [
    "fig, ax = plt.subplots(1,1, figsize=(6,5))\n",
    "\n",
    "density_calculation(int(5*7.91),1, int(-770*7.91), int(200*7.91), y_t.tolist(), pd.DataFrame(strain), r'$\\epsilon_D$')\n",
    "\n",
    "##################### PLOT ##########################\n",
    "colors = ['black', 'red', 'dodgerblue']\n",
    "texts = [r'$\\epsilon_D$', r'$\\omega_{1/2}$', r'SBc']\n",
    "LS = ['-', '-', '-']\n",
    "patches = [plt.plot([], [], ls = LS[i], color = colors[i], \n",
    "                   label=\"{:s}\".format(texts[i]))[0] for i in range(len(texts))]\n",
    "ax.legend(handles= patches, labelspacing=0.5, ncol = 3, \n",
    "               loc=\"upper left\", bbox_to_anchor = (0.01, 1.17))\n",
    "ax.annotate(text=r'510 $\\mu$m', xy=(-230,0.50))\n",
    "ax.axvline(x=0, c='dodgerblue', lw = 5, alpha =0.6, zorder=0)\n",
    "plt.show()"
   ]
  },
  {
   "cell_type": "markdown",
   "metadata": {},
   "source": [
    "### 4. Rotation of Strain Data and Visualisation of Shear Band Thickness\n"
   ]
  },
  {
   "cell_type": "code",
   "execution_count": null,
   "metadata": {
    "vscode": {
     "languageId": "plaintext"
    }
   },
   "outputs": [],
   "source": [
    "fig, ax = plt.subplots(1,1, figsize=(6,5))\n",
    "#### DATA\n",
    "x = np.array(X)\n",
    "y = np.array(Y)\n",
    "x_t = []\n",
    "y_t = []\n",
    "\n",
    "#ROTATION MATRIX\n",
    "theta = np.deg2rad(360-60.3)\n",
    "#theta = np.deg2rad(0)\n",
    "rot = np.array([[np.cos(theta), -np.sin(theta)], [np.sin(theta), np.cos(theta)]])\n",
    "\n",
    "#TRANSFORM ALL THE DATA SET\n",
    "for i in range(len(x)): \n",
    "    v = np.array([x[i], -y[i]])\n",
    "    v_t = np.dot(rot, v)\n",
    "    x_t.append(v_t[0])\n",
    "    y_t.append(v_t[1])\n",
    "x_t = np.multiply(41*7.91, x_t)\n",
    "y_t = np.multiply(41*7.91, y_t)\n",
    "ax.scatter(x_t, y_t , s=(strain*100)**2, c='black', alpha=0.8)\n",
    "\n",
    "#PLOT THE LINE\n",
    "\n",
    "x = np.linspace(-1150*7.91,400*7.91,10)\n",
    "y = (np.tan(0)*x-770)*7.91\n",
    "scatter = ax.plot(x, y, c='dodgerblue', lw=5, alpha =0.8)\n",
    "ax.plot(x, y+510, c='red', lw=3, alpha=0.6)\n",
    "ax.plot(x, y-510, c='red', lw=3, alpha=0.6)\n",
    "\n",
    "##### Legend \n",
    "## left plot\n",
    "msizes = [0.01, 0.05, 0.1, 0.35]\n",
    "markers = []\n",
    "for size in msizes:\n",
    "    markers.append(plt.scatter([],[], s=(size*100)**2, label= str(size) , \n",
    "                               c='black', alpha=0.8) )\n",
    "    \n",
    "ax.legend(handles=markers, columnspacing = 1, handletextpad =0.1, borderpad = 0.35, loc=\"upper left\", ncol = 4,\n",
    "               bbox_to_anchor = (-0.02, 1.27), title = r'$\\epsilon$')\n",
    "\n",
    "#### Customise Plot \n",
    "ax.set_xlabel(r'$\\mu$m')\n",
    "ax.set_ylabel(r'$\\mu$m')\n",
    "ax.grid()\n",
    "ax.ticklabel_format(style='sci', axis = 'both', scilimits = (0,0))\n",
    "ax.ticklabel_format(style='sci', axis = 'x', scilimits = (0,0))\n",
    " \n"
   ]
  }
 ],
 "metadata": {
  "language_info": {
   "name": "python"
  }
 },
 "nbformat": 4,
 "nbformat_minor": 2
}
