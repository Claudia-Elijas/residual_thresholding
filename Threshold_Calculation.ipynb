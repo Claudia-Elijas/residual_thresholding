{
 "cells": [
  {
   "cell_type": "markdown",
   "metadata": {},
   "source": [
    "## Preamble"
   ]
  },
  {
   "cell_type": "code",
   "execution_count": null,
   "metadata": {},
   "outputs": [],
   "source": [
    "# Required packages\n",
    "import numpy as np\n",
    "import cv2 \n",
    "from scipy.signal import savgol_filter\n",
    "import matplotlib\n",
    "from matplotlib import pyplot as plt\n",
    "from matplotlib import cm\n",
    "import matplotlib as mpl\n",
    "from math import *\n",
    "import tifffile\n",
    "import warnings\n",
    "import pandas as pd\n",
    "import matplotlib.mlab as mlab\n",
    "import matplotlib.patches as mpatches\n",
    "from scipy.optimize import curve_fit\n",
    "import string\n",
    "from pylab import *\n",
    "from PIL import Image\n",
    "from osgeo import gdal as GD  \n",
    "warnings.filterwarnings(\"ignore\")\n",
    "from itertools import chain"
   ]
  },
  {
   "cell_type": "code",
   "execution_count": null,
   "metadata": {
    "vscode": {
     "languageId": "plaintext"
    }
   },
   "outputs": [],
   "source": [
    "# Plot formatting \n",
    "matplotlib.rcParams['mathtext.fontset']='cm'\n",
    "matplotlib.rcParams['font.family']='STIXGeneral'\n",
    "plt.rcParams['legend.fontsize']=15\n",
    "plt.rcParams.update({'font.size':15}) \n",
    "plt.rcParams['axes.axisbelow']=True"
   ]
  },
  {
   "cell_type": "markdown",
   "metadata": {},
   "source": [
    "# Read the reconstructed micro-tomographic slices"
   ]
  },
  {
   "cell_type": "code",
   "execution_count": null,
   "metadata": {},
   "outputs": [],
   "source": [
    "### IMPORT RAW IMAGES ###\n",
    "\n",
    "# path to the images \n",
    "path = \"meta-data/slice119_crop_bottom_brightness20000-54067_cropped_00\"\n",
    "\n",
    "# make a list that contains the name of the images padded with zeroes\n",
    "select = list(range(0,37,1))\n",
    "for i in range(37):\n",
    "    select[i]='%0.2d' % i\n",
    "    \n",
    "# read image, flatten and append to \"lists\"\n",
    "lists = []\n",
    "for img in select:\n",
    "    n = cv2.imread(str(path)+img+\".tif\")\n",
    "    data = n.flatten()\n",
    "    lists.append(data)\n"
   ]
  },
  {
   "cell_type": "markdown",
   "metadata": {},
   "source": [
    "# Find the thresholds in the residual\n"
   ]
  },
  {
   "cell_type": "markdown",
   "metadata": {},
   "source": [
    "### 1. Fit a Gaussian"
   ]
  },
  {
   "cell_type": "code",
   "execution_count": null,
   "metadata": {},
   "outputs": [],
   "source": [
    "def gauss(x,mu,sigma,A):\n",
    "        return A*exp(-(x-mu)**2/2/sigma**2)"
   ]
  },
  {
   "cell_type": "code",
   "execution_count": null,
   "metadata": {},
   "outputs": [],
   "source": [
    "### Fit Gaussian to Image #35 ###\n",
    "fig, ax = plt.subplots(1,1, figsize=(10,5))\n",
    "i=35 #image number 35 \n",
    "\n",
    "#fit Gaussian\n",
    "x0, sigma = 0, 0.1\n",
    "bins = np.arange(0,255,1)\n",
    "y_tot, xe  = np.histogram(lists[i], bins)\n",
    "x = .5 * (xe[:-1] + xe[1:])\n",
    "p0 = [1., 1., 1.]\n",
    "fit, tmp = curve_fit(gauss, x, y_tot, p0=p0)\n",
    "\n",
    "###################### PLOT #######################\n",
    "ax.plot(x, y_tot, c='dodgerblue', label='Grey Scale Data', zorder=0, lw = 3)\n",
    "x_fine = np.linspace(xe[0], xe[-1], 254)\n",
    "y_gauss_tot = gauss(x_fine, fit[0], fit[1], fit[2])\n",
    "ax.plot(x_fine, gauss(x_fine, fit[0], fit[1], fit[2]), c='darkorange',ls='--', lw=5 ,label='Best-fit Gaussian', zorder=4)\n",
    "ax.set_xlabel('Grey Values')\n",
    "ax.set_ylabel('Frequency')\n",
    "ax.legend()\n",
    "ax.grid()"
   ]
  },
  {
   "cell_type": "markdown",
   "metadata": {},
   "source": [
    "### 2. Calculate Residual and find the minimum and the inflection points"
   ]
  },
  {
   "cell_type": "code",
   "execution_count": null,
   "metadata": {},
   "outputs": [],
   "source": [
    "fig, ax = plt.subplots(1,1, figsize=(10,5))\n",
    "\n",
    "## RESIDUAL \n",
    "diff_abs = np.abs(y_gauss_tot - y_tot)\n",
    "\n",
    "## MINIMUM \n",
    "fder = np.gradient(diff_abs) #first derivative\n",
    "inds = np.where(np.diff(np.sign(fder))) #find change in sign\n",
    "inds=list(chain.from_iterable(inds)) # indices of all sign changes\n",
    "min_val = []\n",
    "for n in inds:\n",
    "    val=diff_abs[n]\n",
    "    min_val.append(val)\n",
    "D=pd.DataFrame({'inds':inds,'min_val':min_val})\n",
    "# focus search of sign change to band of minimum values between 100 and 950\n",
    "D = D.drop(D[D.min_val > 950].index) \n",
    "D = D.drop(D[D.inds < 100].index)\n",
    "D=D.reset_index(drop=True)\n",
    "UP_threshold = D.inds[0] #upper threshold \n",
    "\n",
    "## INFLECTION POINT\n",
    "yhat = savgol_filter(diff_abs, 61, 3) # window size , polynomial order \n",
    "diff_1= np.gradient(yhat) # 2nd derivative\n",
    "diff_2= np.gradient(diff_1) # 3rd derivative\n",
    "indices = np.where(np.diff(np.sign(diff_2))) # Find the inflection point.\n",
    "indices=list(chain.from_iterable(indices))\n",
    "inflect_val=[]\n",
    "for a in indices: \n",
    "    val = diff_abs[a]\n",
    "    inflect_val.append(val)\n",
    "I=pd.DataFrame({'indices':indices,'inflect_val':inflect_val})\n",
    "# focus the smoothing between the indices 50 and 80 of the greyscale\n",
    "I = I.drop(I[I.indices < 50].index)\n",
    "I = I.drop(I[I.indices > 80].index)\n",
    "I=I.reset_index(drop=True)\n",
    "x_fine_ = x_fine[0:140] #x-axis\n",
    "LOW_threshold = I['indices'].iloc[-1] #lower threshold\n",
    "\n",
    "###################### PLOT #######################\n",
    "ax.plot(x_fine, diff_abs, c='dodgerblue', label='Residual', lw = 3) #actual residual\n",
    "ax.plot(x_fine, yhat, c='darkorange', ls='--', lw=5, label='Smoothed Residual') #smoothed residual\n",
    "ax.axvline(x=UP_threshold,c='black',lw=3) #plotting the threshold on the residual plot\n",
    "ax.axvline(x=LOW_threshold,c='black', ls = '-.', lw=3)\n",
    "ax.set_xlabel('Grey Values')\n",
    "ax.set_ylabel('Absolute Difference')\n",
    "ax.grid()\n",
    "ax.legend()\n",
    "plt.show()"
   ]
  },
  {
   "cell_type": "markdown",
   "metadata": {},
   "source": [
    "## Threshold Evolution"
   ]
  },
  {
   "cell_type": "code",
   "execution_count": null,
   "metadata": {},
   "outputs": [],
   "source": [
    "fig, ax = plt.subplots(1,1, figsize=(10,5))\n",
    "\n",
    "#Threshold Lists\n",
    "upper_thresh = []\n",
    "lower_thresh = []\n",
    "\n",
    "for i in range(37):\n",
    "    ##GAUSSIAN MODEL FIT    \n",
    "    ## Create data:\n",
    "    x0, sigma = 0, 0.1\n",
    "    bins = np.arange(0,255,1)\n",
    "    y_tot, xe  = np.histogram(lists[i], bins)\n",
    "    x = .5 * (xe[:-1] + xe[1:])\n",
    "    ##Initialization parameters\n",
    "    p0 = [1., 1., 1.]\n",
    "    ## Fit the data with the function\n",
    "    fit, tmp = curve_fit(gauss, x, y_tot, p0=p0)\n",
    "     \n",
    "    ## Fitted function\n",
    "    x_fine = np.linspace(xe[0], xe[-1], 254)\n",
    "    y_gauss_tot = gauss(x_fine, fit[0], fit[1], fit[2])\n",
    "    \n",
    "    ## RESIDUAL\n",
    "    diff_abs = np.abs(y_gauss_tot - y_tot)\n",
    "    ##Find minima and its indices\n",
    "    fder = np.gradient(diff_abs) \n",
    "    inds = np.where(np.diff(np.sign(fder)))\n",
    "    ##Unnest inds list\n",
    "    inds=list(chain.from_iterable(inds))\n",
    "\n",
    "    ##Find the values of the minima of diff_abs\n",
    "    min_val = []\n",
    "    for n in inds:\n",
    "        val=diff_abs[n]\n",
    "        min_val.append(val)\n",
    "    D=pd.DataFrame({'inds':inds,'min_val':min_val})\n",
    "    D = D.drop(D[D.min_val < 5].index)\n",
    "    D = D.drop(D[D.min_val > 950].index)\n",
    "    D = D.drop(D[D.inds < 100].index)\n",
    "    D=D.reset_index(drop=True)    \n",
    "   \n",
    "    ##Smooth the residual and find inflection points\n",
    "    yhat = savgol_filter(diff_abs, 61, 3) # window size , polynomial order \n",
    "    diff_1= np.gradient(yhat)\n",
    "    diff_2= np.gradient(diff_1)\n",
    "    indices = np.where(np.diff(np.sign(diff_2))) # Find the inflection point.\n",
    "    indices=list(chain.from_iterable(indices))\n",
    "    inflect_val=[]\n",
    "    for a in indices: \n",
    "        val = diff_abs[a]\n",
    "        inflect_val.append(val)\n",
    "    I=pd.DataFrame({'indices':indices,'inflect_val':inflect_val})\n",
    "    I = I.drop(I[I.indices < 50].index)\n",
    "    I = I.drop(I[I.indices > 80].index)\n",
    "    I=I.reset_index(drop=True)\n",
    "    \n",
    "    ##Plot residual \n",
    "    x_fine_ = x_fine[0:140] #x-axis\n",
    "    inflections = x_fine[indices]#inflection points\n",
    "    \n",
    "    ##Find the thresholds and append to the lists\n",
    "    UP_threshold = D.inds[0] #upper threshold\n",
    "    LOW_threshold = I['indices'].iloc[-1] #lower threshold\n",
    "    upper_thresh.append(UP_threshold) #appending as upper threshold \n",
    "    lower_thresh.append(LOW_threshold) #appending as lower threshold \n",
    "\n",
    "#Upper limit\n",
    "igul = np.mean(upper_thresh)\n",
    "igul_max = np.max(upper_thresh)\n",
    "igul_min = np.min(upper_thresh)\n",
    "#Lower limit\n",
    "igll = np.mean(lower_thresh)\n",
    "igll_max = np.max(lower_thresh)\n",
    "igll_min = np.min(lower_thresh)\n",
    "\n",
    "#Print Average values:\n",
    "print('Average Upper Threshold: '+str(igul))\n",
    "print('Average Lower Threshold: '+str(igll))\n",
    "\n",
    "###############################EVOLUTION OF THE THRESHOLDS##################################\n",
    "ax.plot(upper_thresh,label='Upper Threshold', c='black',  lw=3) #UPPER\n",
    "ax.plot(lower_thresh, label='Lower Threshold', c='black', ls='-.', lw=3) #LOWER\n",
    "ax.axhline(y=igll_max, c='black', ls=':',lw=2)\n",
    "ax.axhline(y=igll_min, c='black', ls=':',lw=2) \n",
    "ax.axhline(y=igul_max, c='black', ls=':',lw=2)\n",
    "ax.axhline(y=igul_min, c='black', ls=':',lw=2, label = 'Range')\n",
    "ax.set_xlabel('Image Number')\n",
    "ax.set_ylabel('Grey Values')\n",
    "ax.grid()\n",
    "plt.show()\n"
   ]
  }
 ],
 "metadata": {
  "language_info": {
   "name": "python"
  }
 },
 "nbformat": 4,
 "nbformat_minor": 2
}
